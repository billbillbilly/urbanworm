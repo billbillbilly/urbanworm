{
 "cells": [
  {
   "cell_type": "markdown",
   "metadata": {},
   "source": [
    "# Define output structure"
   ]
  },
  {
   "cell_type": "code",
   "execution_count": 7,
   "metadata": {},
   "outputs": [],
   "source": [
    "from urbanworm import UrbanDataSet\n",
    "from urbanworm.format_creation import create_format"
   ]
  },
  {
   "cell_type": "markdown",
   "metadata": {},
   "source": [
    "To structure the reponse from model, we can define a new Response class, which can hold a list of QnA class. In the QnA class, we can specify our expected outputs."
   ]
  },
  {
   "cell_type": "code",
   "execution_count": 8,
   "metadata": {},
   "outputs": [],
   "source": [
    "output_structure = create_format(\n",
    "    {\n",
    "        \"question\": (str, ...),\n",
    "        \"answer\": (str, ...),\n",
    "        \"confidence\": (float, ...),\n",
    "    }\n",
    ")"
   ]
  },
  {
   "cell_type": "code",
   "execution_count": 5,
   "metadata": {},
   "outputs": [
    {
     "data": {
      "text/plain": [
       "urbanworm.format_creation.Response[QnA]"
      ]
     },
     "execution_count": 5,
     "metadata": {},
     "output_type": "execute_result"
    }
   ],
   "source": [
    "data = UrbanDataSet(format=output_structure)\n",
    "data.format"
   ]
  }
 ],
 "metadata": {
  "kernelspec": {
   "display_name": "llmApp",
   "language": "python",
   "name": "python3"
  },
  "language_info": {
   "codemirror_mode": {
    "name": "ipython",
    "version": 3
   },
   "file_extension": ".py",
   "mimetype": "text/x-python",
   "name": "python",
   "nbconvert_exporter": "python",
   "pygments_lexer": "ipython3",
   "version": "3.10.16"
  }
 },
 "nbformat": 4,
 "nbformat_minor": 2
}
